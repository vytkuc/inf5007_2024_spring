{
 "cells": [
  {
   "cell_type": "markdown",
   "id": "0803c465",
   "metadata": {},
   "source": [
    "# Hyperparameter Optimization with Keras (Sci-Keras)\n",
    "This notebook demonstrates different hyperparameter optimization techniques for deep learning models using Keras (TensorFlow),\n",
    "with an updated approach using **Sci-Keras** to replace the deprecated `KerasClassifier`.\n",
    "\n",
    "## Methods Covered:\n",
    "- Manual Search\n",
    "- Grid Search (Sci-Keras)\n",
    "- Random Search (Sci-Keras)\n",
    "- Bayesian Optimization (Hyperopt)\n",
    "- Optuna for AutoML\n",
    "\n",
    "### Important Notes:\n",
    "- `KerasClassifier` from `tensorflow.keras.wrappers.scikit_learn` is **deprecated**.\n",
    "- Instead, we use `scikeras.wrappers.KerasClassifier` from the **Sci-Keras** library.\n",
    "\n",
    "Let's get started!"
   ]
  },
  {
   "cell_type": "markdown",
   "id": "997f541c",
   "metadata": {},
   "source": [
    "## 1. Install Required Libraries"
   ]
  },
  {
   "cell_type": "code",
   "execution_count": 10,
   "id": "bc59278a",
   "metadata": {},
   "outputs": [],
   "source": [
    "#!pip install optuna hyperopt tensorflow scikeras scikit-learn"
   ]
  },
  {
   "cell_type": "markdown",
   "id": "cecafa1d",
   "metadata": {},
   "source": [
    "## 2. Import Necessary Libraries"
   ]
  },
  {
   "cell_type": "code",
   "execution_count": 11,
   "id": "7fc758c0",
   "metadata": {},
   "outputs": [],
   "source": [
    "import tensorflow as tf\n",
    "import random\n",
    "import optuna\n",
    "from hyperopt import fmin, tpe, hp, Trials\n",
    "from sklearn.model_selection import GridSearchCV, RandomizedSearchCV\n",
    "from scikeras.wrappers import KerasClassifier"
   ]
  },
  {
   "cell_type": "markdown",
   "id": "61805e37",
   "metadata": {},
   "source": [
    "## 3. Define Keras Model"
   ]
  },
  {
   "cell_type": "code",
   "execution_count": 12,
   "id": "ad722faa",
   "metadata": {},
   "outputs": [],
   "source": [
    "def create_model(optimizer='adam'):\n",
    "    model = tf.keras.Sequential([\n",
    "        tf.keras.layers.Dense(64, activation='relu'),\n",
    "        tf.keras.layers.Dense(10, activation='softmax')\n",
    "    ])\n",
    "    model.compile(optimizer=optimizer, loss='sparse_categorical_crossentropy', metrics=['accuracy'])\n",
    "    return model"
   ]
  },
  {
   "cell_type": "markdown",
   "id": "b97fe3b8",
   "metadata": {},
   "source": [
    "## 4. Grid Search using Sci-Keras"
   ]
  },
  {
   "cell_type": "code",
   "execution_count": 13,
   "id": "33dbbf05",
   "metadata": {},
   "outputs": [
    {
     "name": "stdout",
     "output_type": "stream",
     "text": [
      "Best Grid Search Parameters: {'optimizer': 'adam', 'epochs': 20}\n"
     ]
    }
   ],
   "source": [
    "param_grid = {'optimizer': ['adam', 'rmsprop'], 'epochs': [10, 20, 50, 100, 200, 500, 1000]}\n",
    "model = KerasClassifier(model=create_model, verbose=0)\n",
    "grid = GridSearchCV(estimator=model, param_grid=param_grid, cv=3)\n",
    "# Run grid search (example placeholder since full training would take long)\n",
    "best_params = {'optimizer': 'adam', 'epochs': 20}  # Assume best found\n",
    "print('Best Grid Search Parameters:', best_params)"
   ]
  },
  {
   "cell_type": "markdown",
   "id": "361711c1",
   "metadata": {},
   "source": [
    "## 5. Random Search using Sci-Keras"
   ]
  },
  {
   "cell_type": "code",
   "execution_count": 14,
   "id": "b32c682f",
   "metadata": {},
   "outputs": [
    {
     "name": "stdout",
     "output_type": "stream",
     "text": [
      "Best Random Search Parameters: {'optimizer': 'rmsprop', 'epochs': 10, 'batch_size': 32}\n"
     ]
    }
   ],
   "source": [
    "param_dist = {'optimizer': ['adam', 'rmsprop'], 'epochs': [10, 20, 50, 100, 200, 500, 1000], 'batch_size': [16, 32, 64]}\n",
    "random_search = RandomizedSearchCV(estimator=model, param_distributions=param_dist, n_iter=5, cv=3)\n",
    "# Run random search (example placeholder)\n",
    "best_random_params = {'optimizer': 'rmsprop', 'epochs': 10, 'batch_size': 32}  # Assume best found\n",
    "print('Best Random Search Parameters:', best_random_params)"
   ]
  },
  {
   "cell_type": "markdown",
   "id": "940cd037",
   "metadata": {},
   "source": [
    "## 6. Bayesian Optimization with Hyperopt (With Proper Indexing)"
   ]
  },
  {
   "cell_type": "code",
   "execution_count": 18,
   "id": "bb25edeb",
   "metadata": {},
   "outputs": [
    {
     "name": "stdout",
     "output_type": "stream",
     "text": [
      "100%|██████████| 100/100 [00:00<00:00, 242.37trial/s, best loss: 0.1079940654727145]\n",
      "Best Hyperopt Parameters (Mapped Correctly): {'batch_size': 1, 'epochs': 440.0, 'optimizer': 'adam'}\n"
     ]
    }
   ],
   "source": [
    "def objective(params):\n",
    "    return {'loss': random.uniform(0.1, 0.5), 'status': 'ok'}\n",
    "\n",
    "optimizers = ['adam', 'rmsprop']\n",
    "space = {\n",
    "    'optimizer': hp.choice('optimizer', optimizers),\n",
    "    'epochs': hp.quniform('epochs', 10, 1000, 10),\n",
    "    'batch_size': hp.choice('batch_size', [16, 32, 64])\n",
    "}\n",
    "trials = Trials()\n",
    "best_hyperopt = fmin(fn=objective, space=space, algo=tpe.suggest, max_evals=100, trials=trials)\n",
    "\n",
    "# Correcting the optimizer index output\n",
    "best_hyperopt['optimizer'] = optimizers[best_hyperopt['optimizer']]\n",
    "print('Best Hyperopt Parameters (Mapped Correctly):', best_hyperopt)"
   ]
  },
  {
   "cell_type": "markdown",
   "id": "f1ebe4b9",
   "metadata": {},
   "source": [
    "## 7. Optuna for Keras"
   ]
  },
  {
   "cell_type": "code",
   "execution_count": 19,
   "id": "83abaad8",
   "metadata": {},
   "outputs": [
    {
     "name": "stderr",
     "output_type": "stream",
     "text": [
      "[I 2025-03-03 13:16:40,997] A new study created in memory with name: no-name-542a2cc2-987c-43e8-b3a3-e0e423df9e9b\n",
      "[I 2025-03-03 13:16:41,000] Trial 0 finished with value: 0.1318078959660745 and parameters: {'optimizer': 'adam', 'batch_size': 32, 'epochs': 250}. Best is trial 0 with value: 0.1318078959660745.\n",
      "[I 2025-03-03 13:16:41,001] Trial 1 finished with value: 0.16325371469188812 and parameters: {'optimizer': 'rmsprop', 'batch_size': 32, 'epochs': 670}. Best is trial 0 with value: 0.1318078959660745.\n",
      "[I 2025-03-03 13:16:41,003] Trial 2 finished with value: 0.38497004199097484 and parameters: {'optimizer': 'rmsprop', 'batch_size': 64, 'epochs': 690}. Best is trial 0 with value: 0.1318078959660745.\n",
      "[I 2025-03-03 13:16:41,006] Trial 3 finished with value: 0.16465548455703508 and parameters: {'optimizer': 'adam', 'batch_size': 64, 'epochs': 980}. Best is trial 0 with value: 0.1318078959660745.\n",
      "[I 2025-03-03 13:16:41,006] Trial 4 finished with value: 0.2131597856069122 and parameters: {'optimizer': 'rmsprop', 'batch_size': 48, 'epochs': 410}. Best is trial 0 with value: 0.1318078959660745.\n",
      "[I 2025-03-03 13:16:41,006] Trial 5 finished with value: 0.17395459665372387 and parameters: {'optimizer': 'adam', 'batch_size': 16, 'epochs': 750}. Best is trial 0 with value: 0.1318078959660745.\n",
      "[I 2025-03-03 13:16:41,006] Trial 6 finished with value: 0.4160008540154613 and parameters: {'optimizer': 'adam', 'batch_size': 32, 'epochs': 800}. Best is trial 0 with value: 0.1318078959660745.\n",
      "[I 2025-03-03 13:16:41,013] Trial 7 finished with value: 0.32664106984109664 and parameters: {'optimizer': 'adam', 'batch_size': 48, 'epochs': 400}. Best is trial 0 with value: 0.1318078959660745.\n",
      "[I 2025-03-03 13:16:41,015] Trial 8 finished with value: 0.25184536165368254 and parameters: {'optimizer': 'rmsprop', 'batch_size': 64, 'epochs': 640}. Best is trial 0 with value: 0.1318078959660745.\n",
      "[I 2025-03-03 13:16:41,017] Trial 9 finished with value: 0.3170646138555072 and parameters: {'optimizer': 'adam', 'batch_size': 64, 'epochs': 350}. Best is trial 0 with value: 0.1318078959660745.\n",
      "[I 2025-03-03 13:16:41,031] Trial 10 finished with value: 0.2710243579144871 and parameters: {'optimizer': 'adam', 'batch_size': 16, 'epochs': 130}. Best is trial 0 with value: 0.1318078959660745.\n",
      "[I 2025-03-03 13:16:41,034] Trial 11 finished with value: 0.3193512237164849 and parameters: {'optimizer': 'rmsprop', 'batch_size': 32, 'epochs': 20}. Best is trial 0 with value: 0.1318078959660745.\n",
      "[I 2025-03-03 13:16:41,052] Trial 12 finished with value: 0.3469211843303717 and parameters: {'optimizer': 'rmsprop', 'batch_size': 32, 'epochs': 210}. Best is trial 0 with value: 0.1318078959660745.\n",
      "[I 2025-03-03 13:16:41,063] Trial 13 finished with value: 0.4018298724820225 and parameters: {'optimizer': 'rmsprop', 'batch_size': 32, 'epochs': 540}. Best is trial 0 with value: 0.1318078959660745.\n",
      "[I 2025-03-03 13:16:41,067] Trial 14 finished with value: 0.2553413756771644 and parameters: {'optimizer': 'adam', 'batch_size': 16, 'epochs': 260}. Best is trial 0 with value: 0.1318078959660745.\n",
      "[I 2025-03-03 13:16:41,084] Trial 15 finished with value: 0.411765902824355 and parameters: {'optimizer': 'rmsprop', 'batch_size': 48, 'epochs': 550}. Best is trial 0 with value: 0.1318078959660745.\n",
      "[I 2025-03-03 13:16:41,094] Trial 16 finished with value: 0.4903102219755715 and parameters: {'optimizer': 'rmsprop', 'batch_size': 32, 'epochs': 910}. Best is trial 0 with value: 0.1318078959660745.\n",
      "[I 2025-03-03 13:16:41,104] Trial 17 finished with value: 0.2589903325531136 and parameters: {'optimizer': 'adam', 'batch_size': 48, 'epochs': 20}. Best is trial 0 with value: 0.1318078959660745.\n",
      "[I 2025-03-03 13:16:41,114] Trial 18 finished with value: 0.1488065599939864 and parameters: {'optimizer': 'rmsprop', 'batch_size': 16, 'epochs': 490}. Best is trial 0 with value: 0.1318078959660745.\n",
      "[I 2025-03-03 13:16:41,124] Trial 19 finished with value: 0.3943803019344916 and parameters: {'optimizer': 'adam', 'batch_size': 16, 'epochs': 320}. Best is trial 0 with value: 0.1318078959660745.\n",
      "[I 2025-03-03 13:16:41,134] Trial 20 finished with value: 0.35341913587279505 and parameters: {'optimizer': 'adam', 'batch_size': 16, 'epochs': 470}. Best is trial 0 with value: 0.1318078959660745.\n",
      "[I 2025-03-03 13:16:41,146] Trial 21 finished with value: 0.4457030711811535 and parameters: {'optimizer': 'rmsprop', 'batch_size': 32, 'epochs': 610}. Best is trial 0 with value: 0.1318078959660745.\n",
      "[I 2025-03-03 13:16:41,154] Trial 22 finished with value: 0.44299541156132616 and parameters: {'optimizer': 'rmsprop', 'batch_size': 16, 'epochs': 820}. Best is trial 0 with value: 0.1318078959660745.\n",
      "[I 2025-03-03 13:16:41,165] Trial 23 finished with value: 0.4296668802230319 and parameters: {'optimizer': 'rmsprop', 'batch_size': 32, 'epochs': 150}. Best is trial 0 with value: 0.1318078959660745.\n",
      "[I 2025-03-03 13:16:41,174] Trial 24 finished with value: 0.4397759433739509 and parameters: {'optimizer': 'rmsprop', 'batch_size': 32, 'epochs': 480}. Best is trial 0 with value: 0.1318078959660745.\n",
      "[I 2025-03-03 13:16:41,191] Trial 25 finished with value: 0.20732019218889977 and parameters: {'optimizer': 'rmsprop', 'batch_size': 16, 'epochs': 690}. Best is trial 0 with value: 0.1318078959660745.\n",
      "[I 2025-03-03 13:16:41,202] Trial 26 finished with value: 0.25757788681092264 and parameters: {'optimizer': 'rmsprop', 'batch_size': 48, 'epochs': 270}. Best is trial 0 with value: 0.1318078959660745.\n",
      "[I 2025-03-03 13:16:41,214] Trial 27 finished with value: 0.3535918166976356 and parameters: {'optimizer': 'rmsprop', 'batch_size': 32, 'epochs': 600}. Best is trial 0 with value: 0.1318078959660745.\n",
      "[I 2025-03-03 13:16:41,224] Trial 28 finished with value: 0.17002343300577938 and parameters: {'optimizer': 'adam', 'batch_size': 16, 'epochs': 440}. Best is trial 0 with value: 0.1318078959660745.\n",
      "[I 2025-03-03 13:16:41,236] Trial 29 finished with value: 0.3569523745875036 and parameters: {'optimizer': 'rmsprop', 'batch_size': 32, 'epochs': 720}. Best is trial 0 with value: 0.1318078959660745.\n",
      "[I 2025-03-03 13:16:41,249] Trial 30 finished with value: 0.4820767074696791 and parameters: {'optimizer': 'rmsprop', 'batch_size': 48, 'epochs': 860}. Best is trial 0 with value: 0.1318078959660745.\n",
      "[I 2025-03-03 13:16:41,254] Trial 31 finished with value: 0.3386164887587494 and parameters: {'optimizer': 'adam', 'batch_size': 64, 'epochs': 970}. Best is trial 0 with value: 0.1318078959660745.\n",
      "[I 2025-03-03 13:16:41,268] Trial 32 finished with value: 0.4158033865508032 and parameters: {'optimizer': 'adam', 'batch_size': 64, 'epochs': 960}. Best is trial 0 with value: 0.1318078959660745.\n",
      "[I 2025-03-03 13:16:41,284] Trial 33 finished with value: 0.3016483078651542 and parameters: {'optimizer': 'adam', 'batch_size': 48, 'epochs': 380}. Best is trial 0 with value: 0.1318078959660745.\n",
      "[I 2025-03-03 13:16:41,294] Trial 34 finished with value: 0.3502087104792271 and parameters: {'optimizer': 'adam', 'batch_size': 48, 'epochs': 770}. Best is trial 0 with value: 0.1318078959660745.\n",
      "[I 2025-03-03 13:16:41,304] Trial 35 finished with value: 0.3117060549330143 and parameters: {'optimizer': 'adam', 'batch_size': 32, 'epochs': 670}. Best is trial 0 with value: 0.1318078959660745.\n",
      "[I 2025-03-03 13:16:41,316] Trial 36 finished with value: 0.47421564159537455 and parameters: {'optimizer': 'adam', 'batch_size': 64, 'epochs': 1000}. Best is trial 0 with value: 0.1318078959660745.\n",
      "[I 2025-03-03 13:16:41,330] Trial 37 finished with value: 0.3753089259239889 and parameters: {'optimizer': 'adam', 'batch_size': 16, 'epochs': 540}. Best is trial 0 with value: 0.1318078959660745.\n",
      "[I 2025-03-03 13:16:41,340] Trial 38 finished with value: 0.1573273770888602 and parameters: {'optimizer': 'rmsprop', 'batch_size': 48, 'epochs': 90}. Best is trial 0 with value: 0.1318078959660745.\n",
      "[I 2025-03-03 13:16:41,347] Trial 39 finished with value: 0.3704492289603656 and parameters: {'optimizer': 'rmsprop', 'batch_size': 48, 'epochs': 130}. Best is trial 0 with value: 0.1318078959660745.\n",
      "[I 2025-03-03 13:16:41,365] Trial 40 finished with value: 0.41019017540921243 and parameters: {'optimizer': 'rmsprop', 'batch_size': 48, 'epochs': 80}. Best is trial 0 with value: 0.1318078959660745.\n",
      "[I 2025-03-03 13:16:41,374] Trial 41 finished with value: 0.4841338841557309 and parameters: {'optimizer': 'rmsprop', 'batch_size': 64, 'epochs': 190}. Best is trial 0 with value: 0.1318078959660745.\n",
      "[I 2025-03-03 13:16:41,384] Trial 42 finished with value: 0.21184161530951165 and parameters: {'optimizer': 'rmsprop', 'batch_size': 64, 'epochs': 300}. Best is trial 0 with value: 0.1318078959660745.\n",
      "[I 2025-03-03 13:16:41,398] Trial 43 finished with value: 0.18356511516844254 and parameters: {'optimizer': 'rmsprop', 'batch_size': 32, 'epochs': 80}. Best is trial 0 with value: 0.1318078959660745.\n",
      "[I 2025-03-03 13:16:41,409] Trial 44 finished with value: 0.3135941287209367 and parameters: {'optimizer': 'adam', 'batch_size': 32, 'epochs': 200}. Best is trial 0 with value: 0.1318078959660745.\n",
      "[I 2025-03-03 13:16:41,424] Trial 45 finished with value: 0.49499874952894785 and parameters: {'optimizer': 'rmsprop', 'batch_size': 64, 'epochs': 900}. Best is trial 0 with value: 0.1318078959660745.\n",
      "[I 2025-03-03 13:16:41,442] Trial 46 finished with value: 0.3594855584885155 and parameters: {'optimizer': 'adam', 'batch_size': 48, 'epochs': 260}. Best is trial 0 with value: 0.1318078959660745.\n",
      "[I 2025-03-03 13:16:41,457] Trial 47 finished with value: 0.47155874239543405 and parameters: {'optimizer': 'rmsprop', 'batch_size': 32, 'epochs': 390}. Best is trial 0 with value: 0.1318078959660745.\n",
      "[I 2025-03-03 13:16:41,465] Trial 48 finished with value: 0.17593253225096311 and parameters: {'optimizer': 'adam', 'batch_size': 48, 'epochs': 60}. Best is trial 0 with value: 0.1318078959660745.\n",
      "[I 2025-03-03 13:16:41,484] Trial 49 finished with value: 0.40249015298654467 and parameters: {'optimizer': 'rmsprop', 'batch_size': 16, 'epochs': 590}. Best is trial 0 with value: 0.1318078959660745.\n",
      "[I 2025-03-03 13:16:41,499] Trial 50 finished with value: 0.17191518185378674 and parameters: {'optimizer': 'adam', 'batch_size': 32, 'epochs': 330}. Best is trial 0 with value: 0.1318078959660745.\n",
      "[I 2025-03-03 13:16:41,512] Trial 51 finished with value: 0.4015646139011041 and parameters: {'optimizer': 'adam', 'batch_size': 16, 'epochs': 440}. Best is trial 0 with value: 0.1318078959660745.\n",
      "[I 2025-03-03 13:16:41,524] Trial 52 finished with value: 0.43373811363360426 and parameters: {'optimizer': 'adam', 'batch_size': 16, 'epochs': 450}. Best is trial 0 with value: 0.1318078959660745.\n",
      "[I 2025-03-03 13:16:41,534] Trial 53 finished with value: 0.4700424478357357 and parameters: {'optimizer': 'adam', 'batch_size': 16, 'epochs': 500}. Best is trial 0 with value: 0.1318078959660745.\n",
      "[I 2025-03-03 13:16:41,554] Trial 54 finished with value: 0.21715764363685258 and parameters: {'optimizer': 'adam', 'batch_size': 16, 'epochs': 570}. Best is trial 0 with value: 0.1318078959660745.\n",
      "[I 2025-03-03 13:16:41,566] Trial 55 finished with value: 0.2322253235180444 and parameters: {'optimizer': 'adam', 'batch_size': 16, 'epochs': 430}. Best is trial 0 with value: 0.1318078959660745.\n",
      "[I 2025-03-03 13:16:41,574] Trial 56 finished with value: 0.4722179393284587 and parameters: {'optimizer': 'rmsprop', 'batch_size': 32, 'epochs': 360}. Best is trial 0 with value: 0.1318078959660745.\n",
      "[I 2025-03-03 13:16:41,588] Trial 57 finished with value: 0.12107596521862654 and parameters: {'optimizer': 'rmsprop', 'batch_size': 16, 'epochs': 650}. Best is trial 57 with value: 0.12107596521862654.\n",
      "[I 2025-03-03 13:16:41,605] Trial 58 finished with value: 0.3156819491478725 and parameters: {'optimizer': 'rmsprop', 'batch_size': 32, 'epochs': 640}. Best is trial 57 with value: 0.12107596521862654.\n",
      "[I 2025-03-03 13:16:41,614] Trial 59 finished with value: 0.12832674959779988 and parameters: {'optimizer': 'rmsprop', 'batch_size': 16, 'epochs': 810}. Best is trial 57 with value: 0.12107596521862654.\n",
      "[I 2025-03-03 13:16:41,631] Trial 60 finished with value: 0.4468006756699736 and parameters: {'optimizer': 'rmsprop', 'batch_size': 16, 'epochs': 750}. Best is trial 57 with value: 0.12107596521862654.\n",
      "[I 2025-03-03 13:16:41,644] Trial 61 finished with value: 0.48273859368601246 and parameters: {'optimizer': 'rmsprop', 'batch_size': 16, 'epochs': 810}. Best is trial 57 with value: 0.12107596521862654.\n",
      "[I 2025-03-03 13:16:41,654] Trial 62 finished with value: 0.415198153768752 and parameters: {'optimizer': 'rmsprop', 'batch_size': 16, 'epochs': 870}. Best is trial 57 with value: 0.12107596521862654.\n",
      "[I 2025-03-03 13:16:41,666] Trial 63 finished with value: 0.2765517625524954 and parameters: {'optimizer': 'rmsprop', 'batch_size': 16, 'epochs': 700}. Best is trial 57 with value: 0.12107596521862654.\n",
      "[I 2025-03-03 13:16:41,683] Trial 64 finished with value: 0.24439991671899197 and parameters: {'optimizer': 'rmsprop', 'batch_size': 32, 'epochs': 660}. Best is trial 57 with value: 0.12107596521862654.\n",
      "[I 2025-03-03 13:16:41,694] Trial 65 finished with value: 0.4136469270668547 and parameters: {'optimizer': 'rmsprop', 'batch_size': 16, 'epochs': 830}. Best is trial 57 with value: 0.12107596521862654.\n",
      "[I 2025-03-03 13:16:41,706] Trial 66 finished with value: 0.22762162841469724 and parameters: {'optimizer': 'rmsprop', 'batch_size': 32, 'epochs': 770}. Best is trial 57 with value: 0.12107596521862654.\n",
      "[I 2025-03-03 13:16:41,721] Trial 67 finished with value: 0.12953079137456044 and parameters: {'optimizer': 'rmsprop', 'batch_size': 16, 'epochs': 930}. Best is trial 57 with value: 0.12107596521862654.\n",
      "[I 2025-03-03 13:16:41,734] Trial 68 finished with value: 0.42665606612565243 and parameters: {'optimizer': 'rmsprop', 'batch_size': 16, 'epochs': 950}. Best is trial 57 with value: 0.12107596521862654.\n",
      "[I 2025-03-03 13:16:41,749] Trial 69 finished with value: 0.1739345086313359 and parameters: {'optimizer': 'rmsprop', 'batch_size': 16, 'epochs': 930}. Best is trial 57 with value: 0.12107596521862654.\n",
      "[I 2025-03-03 13:16:41,754] Trial 70 finished with value: 0.3122367799600353 and parameters: {'optimizer': 'rmsprop', 'batch_size': 16, 'epochs': 850}. Best is trial 57 with value: 0.12107596521862654.\n",
      "[I 2025-03-03 13:16:41,774] Trial 71 finished with value: 0.27226569790137234 and parameters: {'optimizer': 'rmsprop', 'batch_size': 16, 'epochs': 900}. Best is trial 57 with value: 0.12107596521862654.\n",
      "[I 2025-03-03 13:16:41,794] Trial 72 finished with value: 0.2696974925960248 and parameters: {'optimizer': 'rmsprop', 'batch_size': 48, 'epochs': 980}. Best is trial 57 with value: 0.12107596521862654.\n",
      "[I 2025-03-03 13:16:41,806] Trial 73 finished with value: 0.24021848152024244 and parameters: {'optimizer': 'rmsprop', 'batch_size': 16, 'epochs': 230}. Best is trial 57 with value: 0.12107596521862654.\n",
      "[I 2025-03-03 13:16:41,816] Trial 74 finished with value: 0.39972651777377766 and parameters: {'optimizer': 'rmsprop', 'batch_size': 16, 'epochs': 720}. Best is trial 57 with value: 0.12107596521862654.\n",
      "[I 2025-03-03 13:16:41,837] Trial 75 finished with value: 0.141765748235529 and parameters: {'optimizer': 'rmsprop', 'batch_size': 64, 'epochs': 790}. Best is trial 57 with value: 0.12107596521862654.\n",
      "[I 2025-03-03 13:16:41,850] Trial 76 finished with value: 0.4142879313955802 and parameters: {'optimizer': 'rmsprop', 'batch_size': 64, 'epochs': 630}. Best is trial 57 with value: 0.12107596521862654.\n",
      "[I 2025-03-03 13:16:41,854] Trial 77 finished with value: 0.11534233808538885 and parameters: {'optimizer': 'rmsprop', 'batch_size': 32, 'epochs': 770}. Best is trial 77 with value: 0.11534233808538885.\n",
      "[I 2025-03-03 13:16:41,874] Trial 78 finished with value: 0.3825288260655214 and parameters: {'optimizer': 'rmsprop', 'batch_size': 32, 'epochs': 780}. Best is trial 77 with value: 0.11534233808538885.\n",
      "[I 2025-03-03 13:16:41,884] Trial 79 finished with value: 0.10123045221903837 and parameters: {'optimizer': 'rmsprop', 'batch_size': 16, 'epochs': 790}. Best is trial 79 with value: 0.10123045221903837.\n",
      "[I 2025-03-03 13:16:41,903] Trial 80 finished with value: 0.397001699542319 and parameters: {'optimizer': 'rmsprop', 'batch_size': 16, 'epochs': 880}. Best is trial 79 with value: 0.10123045221903837.\n",
      "[I 2025-03-03 13:16:41,916] Trial 81 finished with value: 0.19746810744282928 and parameters: {'optimizer': 'rmsprop', 'batch_size': 16, 'epochs': 740}. Best is trial 79 with value: 0.10123045221903837.\n",
      "[I 2025-03-03 13:16:41,924] Trial 82 finished with value: 0.3662787035274573 and parameters: {'optimizer': 'rmsprop', 'batch_size': 16, 'epochs': 790}. Best is trial 79 with value: 0.10123045221903837.\n",
      "[I 2025-03-03 13:16:41,937] Trial 83 finished with value: 0.29663738851448823 and parameters: {'optimizer': 'rmsprop', 'batch_size': 16, 'epochs': 710}. Best is trial 79 with value: 0.10123045221903837.\n",
      "[I 2025-03-03 13:16:41,955] Trial 84 finished with value: 0.23760840892787294 and parameters: {'optimizer': 'rmsprop', 'batch_size': 48, 'epochs': 840}. Best is trial 79 with value: 0.10123045221903837.\n",
      "[I 2025-03-03 13:16:41,969] Trial 85 finished with value: 0.4158945292372159 and parameters: {'optimizer': 'rmsprop', 'batch_size': 16, 'epochs': 800}. Best is trial 79 with value: 0.10123045221903837.\n",
      "[I 2025-03-03 13:16:41,980] Trial 86 finished with value: 0.2930976631949157 and parameters: {'optimizer': 'rmsprop', 'batch_size': 16, 'epochs': 740}. Best is trial 79 with value: 0.10123045221903837.\n",
      "[I 2025-03-03 13:16:41,994] Trial 87 finished with value: 0.2335476605268578 and parameters: {'optimizer': 'rmsprop', 'batch_size': 64, 'epochs': 40}. Best is trial 79 with value: 0.10123045221903837.\n",
      "[I 2025-03-03 13:16:42,006] Trial 88 finished with value: 0.3486628582811926 and parameters: {'optimizer': 'rmsprop', 'batch_size': 32, 'epochs': 150}. Best is trial 79 with value: 0.10123045221903837.\n",
      "[I 2025-03-03 13:16:42,017] Trial 89 finished with value: 0.15072172155892202 and parameters: {'optimizer': 'rmsprop', 'batch_size': 16, 'epochs': 920}. Best is trial 79 with value: 0.10123045221903837.\n",
      "[I 2025-03-03 13:16:42,036] Trial 90 finished with value: 0.34341922002410596 and parameters: {'optimizer': 'rmsprop', 'batch_size': 16, 'epochs': 940}. Best is trial 79 with value: 0.10123045221903837.\n",
      "[I 2025-03-03 13:16:42,049] Trial 91 finished with value: 0.18888471971073623 and parameters: {'optimizer': 'rmsprop', 'batch_size': 16, 'epochs': 910}. Best is trial 79 with value: 0.10123045221903837.\n",
      "[I 2025-03-03 13:16:42,063] Trial 92 finished with value: 0.46960685725374385 and parameters: {'optimizer': 'rmsprop', 'batch_size': 16, 'epochs': 1000}. Best is trial 79 with value: 0.10123045221903837.\n",
      "[I 2025-03-03 13:16:42,074] Trial 93 finished with value: 0.13539289068267082 and parameters: {'optimizer': 'rmsprop', 'batch_size': 16, 'epochs': 680}. Best is trial 79 with value: 0.10123045221903837.\n",
      "[I 2025-03-03 13:16:42,084] Trial 94 finished with value: 0.18221739901430964 and parameters: {'optimizer': 'rmsprop', 'batch_size': 16, 'epochs': 670}. Best is trial 79 with value: 0.10123045221903837.\n",
      "[I 2025-03-03 13:16:42,099] Trial 95 finished with value: 0.33133519633619524 and parameters: {'optimizer': 'rmsprop', 'batch_size': 16, 'epochs': 820}. Best is trial 79 with value: 0.10123045221903837.\n",
      "[I 2025-03-03 13:16:42,116] Trial 96 finished with value: 0.35942588061136305 and parameters: {'optimizer': 'rmsprop', 'batch_size': 16, 'epochs': 880}. Best is trial 79 with value: 0.10123045221903837.\n",
      "[I 2025-03-03 13:16:42,129] Trial 97 finished with value: 0.213378002454026 and parameters: {'optimizer': 'rmsprop', 'batch_size': 16, 'epochs': 760}. Best is trial 79 with value: 0.10123045221903837.\n",
      "[I 2025-03-03 13:16:42,134] Trial 98 finished with value: 0.3375700093078392 and parameters: {'optimizer': 'rmsprop', 'batch_size': 16, 'epochs': 530}. Best is trial 79 with value: 0.10123045221903837.\n",
      "[I 2025-03-03 13:16:42,154] Trial 99 finished with value: 0.247369318796722 and parameters: {'optimizer': 'rmsprop', 'batch_size': 16, 'epochs': 850}. Best is trial 79 with value: 0.10123045221903837.\n"
     ]
    },
    {
     "name": "stdout",
     "output_type": "stream",
     "text": [
      "Best Optuna Parameters: {'optimizer': 'rmsprop', 'batch_size': 16, 'epochs': 790}\n"
     ]
    }
   ],
   "source": [
    "def optuna_objective(trial):\n",
    "    optimizer_name = trial.suggest_categorical(\"optimizer\", [\"adam\", \"rmsprop\"])\n",
    "    batch_size = trial.suggest_int(\"batch_size\", 16, 64, step=16)\n",
    "    epochs = trial.suggest_int(\"epochs\", 10, 1000, step=10)\n",
    "    return random.uniform(0.1, 0.5)\n",
    "\n",
    "study = optuna.create_study(direction=\"minimize\")\n",
    "study.optimize(optuna_objective, n_trials=100)\n",
    "print('Best Optuna Parameters:', study.best_params)"
   ]
  }
 ],
 "metadata": {
  "kernelspec": {
   "display_name": "base",
   "language": "python",
   "name": "python3"
  },
  "language_info": {
   "codemirror_mode": {
    "name": "ipython",
    "version": 3
   },
   "file_extension": ".py",
   "mimetype": "text/x-python",
   "name": "python",
   "nbconvert_exporter": "python",
   "pygments_lexer": "ipython3",
   "version": "3.9.13"
  }
 },
 "nbformat": 4,
 "nbformat_minor": 5
}
